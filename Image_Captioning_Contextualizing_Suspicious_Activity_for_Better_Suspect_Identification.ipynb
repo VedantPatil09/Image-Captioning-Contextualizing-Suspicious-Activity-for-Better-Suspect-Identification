{
  "nbformat": 4,
  "nbformat_minor": 0,
  "metadata": {
    "colab": {
      "provenance": []
    },
    "kernelspec": {
      "name": "python3",
      "display_name": "Python 3"
    },
    "language_info": {
      "name": "python"
    }
  },
  "cells": [
    {
      "cell_type": "code",
      "execution_count": null,
      "metadata": {
        "id": "yWIxxRk-6YGr"
      },
      "outputs": [],
      "source": [
        "def detect():\n",
        "\n",
        "word = ['run', 'running', 'gun','fighting','fight', 'knif','mask', 'weapon','police', 'fear', 'punch','dance', 'running', 'gang', 'looking']\n",
        "\n",
        "cap = cv2.VideoCapture(\"/content/The Gentleman Gangster Scene.mp4\")\n",
        "\n",
        "If not cap.isOpened():\n",
        "  print(\"Error: Could not open video file.\")\n",
        "  exit()\n",
        "\n",
        "import os\n",
        "output_directory = 'output_frames'\n",
        "os.makedirs(output_directory.exist_ok=True)\n",
        "\n",
        "frame_interval = 30\n",
        "\n",
        "frame_count=0\n",
        "\n",
        "#Read and save video frames\n",
        "\n",
        "while True:\n",
        "  ret.frame cap.read()\n",
        "\n",
        "  if not ret:\n",
        "    break\n",
        "\n",
        "  if frame_count % frame_interval == 0:\n",
        "    frame filename = f\"{output directory}/frame_{frame_count:04d}.jpg\"\n",
        "    image = cv2.cvtColor(frame, cv2.COLOR_BGR2RGB)\n",
        "    cv2.imwrite(frame_filename, image)\n",
        "\n",
        "    ts = current_time.strftime('%Y-%m-%d %H:%M:%S')\n",
        "    result image_to_text(frame_filename)\n",
        "    print(f\"Saved frame {frame_count}\")\n",
        "    print(f\"[{ts}] {result[0].get('generated_text')}\")\n",
        "\n",
        "    if any(x in word for x in result(0).get('generated_text').split()):\n",
        "      print(\"[STATUS] Suspicious\")\n",
        "    else:\n",
        "      print(\"[STATUS] Normal\")\n",
        "\n",
        "  frame_count+=1\n",
        "\n",
        "cap.release()\n",
        "cv2.destroyAllWindows()\n",
        "\n",
        "print(f\"Saved {frame_count//frame_interval} frames to {output_director})\")"
      ]
    }
  ]
}